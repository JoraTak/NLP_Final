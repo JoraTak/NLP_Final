{
 "cells": [
  {
   "cell_type": "code",
   "execution_count": null,
   "metadata": {
    "collapsed": true
   },
   "outputs": [],
   "source": [
    "from __future__ import absolute_import\n",
    "from __future__ import print_function\n",
    "from __future__ import division\n",
    "\n",
    "import json, os, re, shutil, sys, time\n",
    "from importlib import reload\n",
    "import collections, itertools\n",
    "import unittest\n",
    "from IPython.display import display, HTML\n",
    "\n",
    "# NLTK for NLP utils and corpora\n",
    "import nltk\n",
    "\n",
    "# Pandas NumPy and TensorFlow\n",
    "import pandas as pd\n",
    "import numpy as np\n",
    "import tensorflow as tf\n",
    "assert(tf.__version__.startswith(\"1.\"))\n",
    "\n",
    "# Helper libraries\n",
    "from utils import utils_proj, vocabulary\n",
    "\n",
    "from sklearn.model_selection import train_test_split\n",
    "\n",
    "import lstm; reload(lstm)\n",
    "\n",
    "% matplotlib inline"
   ]
  },
  {
   "cell_type": "code",
   "execution_count": null,
   "metadata": {
    "collapsed": true
   },
   "outputs": [],
   "source": [
    "names = ['timestamp','date','query','handle','message']\n",
    "df = pd.read_csv(r'C:\\Users\\nconidas\\Desktop\\w266_final_project\\sentiment140.csv',encoding='Latin1',names=names)\n",
    "df['sentiment'] = df.index\n",
    "#Instead of positive being 4 make positive 1\n",
    "df.loc[df['sentiment'] == 4,'sentiment']=1\n"
   ]
  },
  {
   "cell_type": "code",
   "execution_count": null,
   "metadata": {
    "collapsed": true
   },
   "outputs": [],
   "source": [
    "df['message'].hist()"
   ]
  },
  {
   "cell_type": "code",
   "execution_count": null,
   "metadata": {},
   "outputs": [],
   "source": [
    "#Just use 1000 rows while developing the code, full set takes too long\n",
    "x_data = df['message'].head(1000).tolist()\n",
    "y_data = df['sentiment'].head(1000).tolist()\n",
    "\n",
    "#build the vocab\n",
    "x_data = [i.split() for i in x_data]\n",
    "flat_list = [item for sublist in x_data for item in sublist]\n",
    "vocab = utils_proj.build_vocab(flat_list)\n"
   ]
  },
  {
   "cell_type": "code",
   "execution_count": 213,
   "metadata": {},
   "outputs": [],
   "source": [
    "#Split into 70% train, 15% dev, 15% test\n",
    "\n",
    "def train_test_dev(x,y,train_pct=.8,test_pct=.1,random_state=1):\n",
    "    #Split into train and test\n",
    "    X_train, X_test, y_train, y_test = (\n",
    "        train_test_split(x, y, test_size=1-train_pct, random_state=random_state))\n",
    "    #split test into dev and test\n",
    "    X_dev, X_test, y_dev, y_test = (\n",
    "        train_test_split(X_test, y_test, test_size=test_pct/(1-train_pct), random_state=random_state))\n",
    "    \n",
    "    return X_train,X_dev,X_test,y_train,y_dev,y_test\n",
    "\n",
    "\n",
    "X_train,X_dev,X_test,y_train,y_dev,y_test = train_test_dev(x_data,y_data,.7,.15)"
   ]
  },
  {
   "cell_type": "code",
   "execution_count": 215,
   "metadata": {},
   "outputs": [],
   "source": [
    "#train/dev/test words to ids\n",
    "train_ids = utils_proj.preprocess_sentences(X_train,vocab) \n",
    "dev_ids = utils_proj.preprocess_sentences(X_dev,vocab)\n",
    "test_ids = utils_proj.preprocess_sentences(X_test,vocab)"
   ]
  },
  {
   "cell_type": "code",
   "execution_count": 225,
   "metadata": {},
   "outputs": [],
   "source": [
    "# Training parameters\n",
    "max_time = 25\n",
    "batch_size = 100\n",
    "learning_rate = 0.01\n",
    "num_epochs = 1\n",
    "\n",
    "# Model parameters\n",
    "model_params = dict(V=vocab.size, \n",
    "                    H=200, \n",
    "                    softmax_ns=200,\n",
    "                    num_layers=2,\n",
    "                    num_classes=2)"
   ]
  },
  {
   "cell_type": "code",
   "execution_count": 228,
   "metadata": {},
   "outputs": [
    {
     "ename": "NameError",
     "evalue": "name 'TF_SAVEDIR' is not defined",
     "output_type": "error",
     "traceback": [
      "\u001b[1;31m---------------------------------------------------------------------------\u001b[0m",
      "\u001b[1;31mNameError\u001b[0m                                 Traceback (most recent call last)",
      "\u001b[1;32m<ipython-input-228-882f7977b481>\u001b[0m in \u001b[0;36m<module>\u001b[1;34m()\u001b[0m\n\u001b[0;32m     13\u001b[0m \u001b[1;33m\u001b[0m\u001b[0m\n\u001b[0;32m     14\u001b[0m \u001b[1;31m# Clear old log directory\u001b[0m\u001b[1;33m\u001b[0m\u001b[1;33m\u001b[0m\u001b[0m\n\u001b[1;32m---> 15\u001b[1;33m \u001b[0mshutil\u001b[0m\u001b[1;33m.\u001b[0m\u001b[0mrmtree\u001b[0m\u001b[1;33m(\u001b[0m\u001b[0mTF_SAVEDIR\u001b[0m\u001b[1;33m,\u001b[0m \u001b[0mignore_errors\u001b[0m\u001b[1;33m=\u001b[0m\u001b[1;32mTrue\u001b[0m\u001b[1;33m)\u001b[0m\u001b[1;33m\u001b[0m\u001b[0m\n\u001b[0m\u001b[0;32m     16\u001b[0m \u001b[1;32mif\u001b[0m \u001b[1;32mnot\u001b[0m \u001b[0mos\u001b[0m\u001b[1;33m.\u001b[0m\u001b[0mpath\u001b[0m\u001b[1;33m.\u001b[0m\u001b[0misdir\u001b[0m\u001b[1;33m(\u001b[0m\u001b[0mTF_SAVEDIR\u001b[0m\u001b[1;33m)\u001b[0m\u001b[1;33m:\u001b[0m\u001b[1;33m\u001b[0m\u001b[0m\n\u001b[0;32m     17\u001b[0m     \u001b[0mos\u001b[0m\u001b[1;33m.\u001b[0m\u001b[0mmakedirs\u001b[0m\u001b[1;33m(\u001b[0m\u001b[0mTF_SAVEDIR\u001b[0m\u001b[1;33m)\u001b[0m\u001b[1;33m\u001b[0m\u001b[0m\n",
      "\u001b[1;31mNameError\u001b[0m: name 'TF_SAVEDIR' is not defined"
     ]
    }
   ],
   "source": [
    "# Will print status every this many seconds\n",
    "reload(lstm)\n",
    "print_interval = 5\n",
    "\n",
    "lm = lstm.RNNLM(**model_params)\n",
    "lm.BuildCoreGraph()\n",
    "lm.BuildTrainGraph()\n",
    "\n",
    "# Explicitly add global initializer and variable saver to LM graph\n",
    "with lm.graph.as_default():\n",
    "    initializer = tf.global_variables_initializer()\n",
    "    saver = tf.train.Saver()\n",
    "    \n",
    "# Clear old log directory\n",
    "shutil.rmtree(TF_SAVEDIR, ignore_errors=True)\n",
    "if not os.path.isdir(TF_SAVEDIR):\n",
    "    os.makedirs(TF_SAVEDIR)\n",
    "\n",
    "with tf.Session(graph=lm.graph) as session:\n",
    "    # Seed RNG for repeatability\n",
    "    tf.set_random_seed(42)\n",
    "\n",
    "    session.run(initializer)\n",
    "    \n",
    "    \n",
    "    for epoch in range(1,num_epochs+1):\n",
    "        t0_epoch = time.time()\n",
    "        bi = utils.rnnlm_batch_generator(train_ids, batch_size, max_time)\n",
    "        print(\"[epoch {:d}] Starting epoch {:d}\".format(epoch, epoch))\n",
    "        #### YOUR CODE HERE ####\n",
    "        # Run a training epoch.\n",
    "        run_epoch(lm, session, bi,True,\n",
    "                  True,1.0,learning_rate)\n",
    "        \n",
    "        #### END(YOUR CODE) ####\n",
    "        print(\"[epoch {:d}] Completed in {:s}\".format(epoch, utils.pretty_timedelta(since=t0_epoch)))\n",
    "    \n",
    "        # Save a checkpointls \n",
    "        saver.save(session, checkpoint_filename, global_step=epoch)\n",
    "    \n",
    "        ##\n",
    "        # score_dataset will run a forward pass over the entire dataset\n",
    "        # and report perplexity scores. This can be slow (around 1/2 to \n",
    "        # 1/4 as long as a full epoch), so you may want to comment it out\n",
    "        # to speed up training on a slow machine. Be sure to run it at the \n",
    "        # end to evaluate your score.\n",
    "      #  print(\"[epoch {:d}]\".format(epoch), end=\" \")\n",
    "      #  score_dataset(lm, session, train_ids, name=\"Train set\")\n",
    "      #  print(\"[epoch {:d}]\".format(epoch), end=\" \")\n",
    "      #  score_dataset(lm, session, test_ids, name=\"Test set\")\n",
    "      #  print(\"\")\n",
    "    print(\"[epoch {:d}]\".format(epoch), end=\" \")\n",
    "    score_dataset(lm, session, train_ids, name=\"Train set\")\n",
    "    print(\"[epoch {:d}]\".format(epoch), end=\" \")\n",
    "    score_dataset(lm, session, test_ids, name=\"Test set\")\n",
    "    print(\"\")\n",
    "    # Save final model\n",
    "    saver.save(session, trained_filename)"
   ]
  },
  {
   "cell_type": "code",
   "execution_count": null,
   "metadata": {
    "collapsed": true
   },
   "outputs": [],
   "source": []
  }
 ],
 "metadata": {
  "kernelspec": {
   "display_name": "Python 3",
   "language": "python",
   "name": "python3"
  },
  "language_info": {
   "codemirror_mode": {
    "name": "ipython",
    "version": 3
   },
   "file_extension": ".py",
   "mimetype": "text/x-python",
   "name": "python",
   "nbconvert_exporter": "python",
   "pygments_lexer": "ipython3",
   "version": "3.6.1"
  }
 },
 "nbformat": 4,
 "nbformat_minor": 2
}
